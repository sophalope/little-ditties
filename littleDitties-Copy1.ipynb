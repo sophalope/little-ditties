{
 "cells": [
  {
   "cell_type": "code",
   "execution_count": 3,
   "metadata": {},
   "outputs": [
    {
     "name": "stdout",
     "output_type": "stream",
     "text": [
      "Requirement already satisfied: markovify in /anaconda3/lib/python3.7/site-packages (0.7.2)\r\n",
      "Requirement already satisfied: unidecode in /anaconda3/lib/python3.7/site-packages (from markovify) (1.1.1)\r\n"
     ]
    }
   ],
   "source": [
    "!pip install markovify"
   ]
  },
  {
   "cell_type": "code",
   "execution_count": 8,
   "metadata": {},
   "outputs": [],
   "source": [
    "import markovify"
   ]
  },
  {
   "cell_type": "code",
   "execution_count": 9,
   "metadata": {},
   "outputs": [],
   "source": [
    "length_limit = 150\n",
    "class SentencesByChar(markovify.Text):\n",
    "    def word_split(self, sentence):\n",
    "        return list(sentence)\n",
    "    def word_join(self, words):\n",
    "        return \"\".join(words)"
   ]
  },
  {
   "cell_type": "code",
   "execution_count": 20,
   "metadata": {},
   "outputs": [],
   "source": [
    "import numpy as np"
   ]
  },
  {
   "cell_type": "code",
   "execution_count": 113,
   "metadata": {},
   "outputs": [],
   "source": [
    "a = np.random.randint(low=1, high=5, size=1)"
   ]
  },
  {
   "cell_type": "code",
   "execution_count": 114,
   "metadata": {
    "scrolled": true
   },
   "outputs": [
    {
     "name": "stdout",
     "output_type": "stream",
     "text": [
      "[2]\n"
     ]
    }
   ],
   "source": [
    "print (a)"
   ]
  },
  {
   "cell_type": "code",
   "execution_count": 115,
   "metadata": {},
   "outputs": [],
   "source": [
    "if a == 1:\n",
    "    con_model = SentencesByChar(\"dooby dooby doo bop skoo op boodle scooby boop bip bop bip doobity bop\", state_size=2)\n",
    "elif a == 2: \n",
    "    con_model = SentencesByChar(\"la la ti dum da de la de dat ti da\", state_size=2)\n",
    "elif a == 3:\n",
    "    con_model = SentencesByChar(\"spumble bumble mumble mumble ba bumble be fumble tumble spumble lumble be dumble\", state_size=2)\n",
    "elif a == 4:\n",
    "    con_model = SentencesByChar(\"do re mi fa so la ti do so do la fa mi do re so do la ti do re do\", state_size=2) \n",
    "elif a == 5:\n",
    "    con_model = SentencesByChar(\"bum bum be dumm bum bum be dum so bumma dum dumm\", state_size=2) \n",
    "    "
   ]
  },
  {
   "cell_type": "code",
   "execution_count": 116,
   "metadata": {},
   "outputs": [
    {
     "data": {
      "text/plain": [
       "'la ti da de la la la dat ti da dat ti dat ti de de dat ti de de da'"
      ]
     },
     "execution_count": 116,
     "metadata": {},
     "output_type": "execute_result"
    }
   ],
   "source": [
    "con_model.make_sentence()"
   ]
  }
 ],
 "metadata": {
  "kernelspec": {
   "display_name": "Python 3",
   "language": "python",
   "name": "python3"
  },
  "language_info": {
   "codemirror_mode": {
    "name": "ipython",
    "version": 3
   },
   "file_extension": ".py",
   "mimetype": "text/x-python",
   "name": "python",
   "nbconvert_exporter": "python",
   "pygments_lexer": "ipython3",
   "version": "3.7.3"
  }
 },
 "nbformat": 4,
 "nbformat_minor": 2
}
